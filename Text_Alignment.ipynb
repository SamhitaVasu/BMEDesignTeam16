{
 "cells": [
  {
   "cell_type": "code",
   "execution_count": 3,
   "id": "8e4f7861",
   "metadata": {},
   "outputs": [
    {
     "name": "stdout",
     "output_type": "stream",
     "text": [
      "tensor([[1.]])\n"
     ]
    }
   ],
   "source": [
    "import torch\n",
    "from PIL import Image\n",
    "from transformers import AlignProcessor, AlignModel\n",
    "import os\n",
    "from os import listdir\n",
    "\n",
    "processor = AlignProcessor.from_pretrained(\"kakaobrain/align-base\")\n",
    "model = AlignModel.from_pretrained(\"kakaobrain/align-base\")\n",
    "\n",
    "image = Image.open(\"DALLE-20240227_194320_0.png\")\n",
    "candidate_labels = [\"syringe\"]\n",
    "\n",
    "inputs = processor(text=candidate_labels, images=image, return_tensors=\"pt\")\n",
    "\n",
    "with torch.no_grad():\n",
    "    outputs = model(**inputs)\n",
    "\n",
    "# this is the image-text similarity score\n",
    "logits_per_image = outputs.logits_per_image\n",
    "\n",
    "# we can take the softmax to get the label probabilities\n",
    "probs = logits_per_image.softmax(dim=1)\n",
    "print(probs)"
   ]
  },
  {
   "cell_type": "code",
   "execution_count": null,
   "id": "55b164d0",
   "metadata": {},
   "outputs": [],
   "source": [
    "# start at \"Place 2 drops of antibiotic into each nostril every 12 hours for 3 days.\"\n",
    "verb_labels = [\"swallow\", \"drink\",\"250\", \"rub in\", \"inject\", \"press\", \"insert\", \"spray\", \"wrap\", \"put\", \"place\"]\n",
    "quantity_labels = [\"2\", \"250\", \"1\", \"20\", \"5\"]\n",
    "unit_labels = [\"pills\", \"button\", \"insulin pump\" , \"nasal spray\", \"blood pressure cuff\", \"drop\"]\n",
    "frequency_labels = [\"every day\", \"every 24 hours\", \"2 weeks\", \"every 12 hours\", \"4 times a day\", \"twice a day\", \"every 4 hours\", \"every 5 hours\", \"every 3 days\", \"every morning and night\", \"twice daily\"]\n",
    "duration_labels = [\"4 days\", \"5 days\", \"10 days\", \"1 week\", \"2 weeks\", \"3 weeks\", \"2 months\", \"6 months\", \"1 year\"]"
   ]
  },
  {
   "cell_type": "code",
   "execution_count": null,
   "id": "88be6ab0",
   "metadata": {},
   "outputs": [],
   "source": [
    "import torch\n",
    "from PIL import Image\n",
    "from transformers import AlignProcessor, AlignModel\n",
    "import os\n",
    "from os import listdir\n",
    "\n",
    "processor = AlignProcessor.from_pretrained(\"kakaobrain/align-base\")\n",
    "model = AlignModel.from_pretrained(\"kakaobrain/align-base\")\n",
    "\n",
    "folder_dir = \"C:/Users/RIJUSHREE/Desktop/Gfg images\" #change name to your file directory\"\n",
    "verb_labels = [\"syringe\"] #replace with verb_labels above\n",
    "\n",
    "for images in os.listdir(folder_dir):\n",
    "    inputs = processor(text=verb_labels, images=image, return_tensors=\"pt\")\n",
    "    with torch.no_grad():\n",
    "    outputs = model(**inputs)\n",
    "    \n",
    "    # this is the image-text similarity score\n",
    "    logits_per_image = outputs.logits_per_image\n",
    "    \n",
    "    # we can take the softmax to get the label probabilities\n",
    "    probs = logits_per_image.softmax(dim=1)\n",
    "    print(probs)\n"
   ]
  }
 ],
 "metadata": {
  "kernelspec": {
   "display_name": "Python 3 (ipykernel)",
   "language": "python",
   "name": "python3"
  },
  "language_info": {
   "codemirror_mode": {
    "name": "ipython",
    "version": 3
   },
   "file_extension": ".py",
   "mimetype": "text/x-python",
   "name": "python",
   "nbconvert_exporter": "python",
   "pygments_lexer": "ipython3",
   "version": "3.11.5"
  }
 },
 "nbformat": 4,
 "nbformat_minor": 5
}
