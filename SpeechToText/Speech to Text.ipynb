{
 "cells": [
  {
   "cell_type": "code",
   "execution_count": 3,
   "id": "2cc8cd63",
   "metadata": {
    "scrolled": true
   },
   "outputs": [
    {
     "name": "stdout",
     "output_type": "stream",
     "text": [
      "the stale smell of old beer lingers it takes heat to bring out the odor a cold dip restores health and zest a salt pickle taste fine with ham tacos al pastor are my favorite a zestful food is the hot cross bun\n"
     ]
    }
   ],
   "source": [
    "# make sure to do pip install SpeechRecognition in your terminal before running this code\n",
    "\n",
    "import speech_recognition as sr\n",
    "\n",
    "# assigning r to recognizer class\n",
    "r = sr.Recognizer()\n",
    "\n",
    "# used harvard.wav audio file, can be found in this SpeechToText folder\n",
    "instructions = sr.AudioFile('harvard.wav')\n",
    "with instructions as source:\n",
    "    audio = r.record(source)\n",
    "\n",
    "# using Google Web Speech API to translate audio into text\n",
    "transcription = r.recognize_google(audio)\n",
    "\n",
    "print(transcription)"
   ]
  },
  {
   "cell_type": "code",
   "execution_count": null,
   "id": "d4a6eac7",
   "metadata": {},
   "outputs": [],
   "source": []
  }
 ],
 "metadata": {
  "kernelspec": {
   "display_name": "Python 3 (ipykernel)",
   "language": "python",
   "name": "python3"
  },
  "language_info": {
   "codemirror_mode": {
    "name": "ipython",
    "version": 3
   },
   "file_extension": ".py",
   "mimetype": "text/x-python",
   "name": "python",
   "nbconvert_exporter": "python",
   "pygments_lexer": "ipython3",
   "version": "3.11.5"
  }
 },
 "nbformat": 4,
 "nbformat_minor": 5
}
