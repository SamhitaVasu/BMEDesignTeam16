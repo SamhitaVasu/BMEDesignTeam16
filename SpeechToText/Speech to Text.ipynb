{
 "cells": [
  {
   "cell_type": "code",
   "execution_count": 2,
   "id": "2cc8cd63",
   "metadata": {},
   "outputs": [],
   "source": [
    "import speech_recognition as sr\n",
    "\n",
    "r = sr.Recognizer()\n",
    "\n",
    "instructions = sr.AudioFile('')\n",
    "with instructions as source:\n",
    "    audio = r.record(source)\n",
    "transcription = r.recognize_google()\n",
    "\n",
    "return transcription\n"
   ]
  },
  {
   "cell_type": "code",
   "execution_count": null,
   "id": "dd3e54d6",
   "metadata": {},
   "outputs": [],
   "source": []
  }
 ],
 "metadata": {
  "kernelspec": {
   "display_name": "Python 3 (ipykernel)",
   "language": "python",
   "name": "python3"
  },
  "language_info": {
   "codemirror_mode": {
    "name": "ipython",
    "version": 3
   },
   "file_extension": ".py",
   "mimetype": "text/x-python",
   "name": "python",
   "nbconvert_exporter": "python",
   "pygments_lexer": "ipython3",
   "version": "3.11.5"
  }
 },
 "nbformat": 4,
 "nbformat_minor": 5
}
