{
 "cells": [
  {
   "cell_type": "code",
   "execution_count": 4,
   "metadata": {
    "scrolled": true
   },
   "outputs": [
    {
     "name": "stdout",
     "output_type": "stream",
     "text": [
      "take two pills daily for 14 days\n"
     ]
    }
   ],
   "source": [
    "# make sure to do pip install SpeechRecognition in your terminal before running this code\n",
    "\n",
    "import speech_recognition as sr\n",
    "\n",
    "# assigning r to recognizer class\n",
    "r = sr.Recognizer()\n",
    "\n",
    "# used harvard.wav audio file, can be found in this SpeechToText folder\n",
    "instructions = sr.AudioFile('ExampleInstruction.wav')\n",
    "with instructions as source:\n",
    "    audio = r.record(source)\n",
    "\n",
    "# using Google Web Speech API to translate audio into text\n",
    "transcription = r.recognize_google(audio)\n",
    "\n",
    "print(transcription)"
   ]
  },
  {
   "cell_type": "code",
   "execution_count": null,
   "metadata": {},
   "outputs": [],
   "source": []
  }
 ],
 "metadata": {
  "kernelspec": {
   "display_name": "Python 3",
   "language": "python",
   "name": "python3"
  },
  "language_info": {
   "codemirror_mode": {
    "name": "ipython",
    "version": 3
   },
   "file_extension": ".py",
   "mimetype": "text/x-python",
   "name": "python",
   "nbconvert_exporter": "python",
   "pygments_lexer": "ipython3",
   "version": "3.8.5"
  }
 },
 "nbformat": 4,
 "nbformat_minor": 5
}
