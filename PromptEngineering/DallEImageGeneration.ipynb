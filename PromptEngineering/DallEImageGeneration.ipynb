{
 "cells": [
  {
   "cell_type": "code",
   "execution_count": null,
   "metadata": {},
   "outputs": [],
   "source": [
    "import os\n",
    "from io import BytesIO\n",
    "import openai                 \n",
    "from datetime import datetime  \n",
    "import base64      \n",
    "import requests            \n",
    "from PIL import Image         \n",
    "import tkinter as tk          \n",
    "from PIL import ImageTk       \n",
    "import time\n",
    "\n",
    "st = time.time()\n",
    "\n",
    "def old_package(version, minimum):  # Block old openai python libraries before today's\n",
    "    version_parts = list(map(int, version.split(\".\")))\n",
    "    minimum_parts = list(map(int, minimum.split(\".\")))\n",
    "    return version_parts < minimum_parts\n",
    "\n",
    "if old_package(openai.__version__, \"1.2.3\"):\n",
    "    raise ValueError(f\"Error: OpenAI version {openai.__version__}\"\n",
    "                     \" is less than the minimum version 1.2.3\\n\\n\"\n",
    "                     \">>You should run 'pip install --upgrade openai')\")\n",
    "\n",
    "from openai import OpenAI\n",
    "client = OpenAI(api_key=\"[INSERT KEY]\")"
   ]
  },
  {
   "cell_type": "code",
   "execution_count": null,
   "metadata": {},
   "outputs": [],
   "source": [
    "#Edit this to whatever prompt you want\n",
    "prompt = (\n",
    " \"Subject: 14 number icon\"  \n",
    " \"Style: black and white pictogram\"    \n",
    ")\n",
    "\n",
    "image_params = {\n",
    " \"model\": \"dall-e-2\",  \n",
    " \"n\": 1,           \n",
    " \"size\": \"1024x1024\",  \n",
    " \"prompt\": prompt,     # DALL-E 3: max 4000 characters, DALL-E 2: max 1000\n",
    " \"user\": \"myName\", \n",
    " \"response_format\": \"b64_json\"\n",
    "}"
   ]
  },
  {
   "cell_type": "code",
   "execution_count": null,
   "metadata": {},
   "outputs": [],
   "source": [
    "# error handling\n",
    "try:\n",
    "    images_response = client.images.generate(**image_params)\n",
    "except openai.APIConnectionError as e:\n",
    "    print(\"Server connection error: {e.__cause__}\")  # from httpx.\n",
    "    raise\n",
    "except openai.RateLimitError as e:\n",
    "    print(f\"OpenAI RATE LIMIT error {e.status_code}: (e.response)\")\n",
    "    raise\n",
    "except openai.APIStatusError as e:\n",
    "    print(f\"OpenAI STATUS error {e.status_code}: (e.response)\")\n",
    "    raise\n",
    "except openai.BadRequestError as e:\n",
    "    print(f\"OpenAI BAD REQUEST error {e.status_code}: (e.response)\")\n",
    "    raise\n",
    "except Exception as e:\n",
    "    print(f\"An unexpected error occurred: {e}\")\n",
    "    raise\n",
    "\n",
    "# print time it took to generate image\n",
    "et = time.time()\n",
    "elapsed_time = et - st\n",
    "print('Execution time:', elapsed_time, 'seconds')"
   ]
  },
  {
   "cell_type": "code",
   "execution_count": null,
   "metadata": {},
   "outputs": [],
   "source": [
    "# make a file name prefix from date-time of response\n",
    "images_dt = datetime.utcfromtimestamp(images_response.created)\n",
    "img_filename = images_dt.strftime('DALLE-%Y%m%d_%H%M%S')"
   ]
  },
  {
   "cell_type": "code",
   "execution_count": null,
   "metadata": {},
   "outputs": [],
   "source": [
    "# save image\n",
    "image_url_list = []\n",
    "image_data_list = []\n",
    "for image in images_response.data:\n",
    "    image_url_list.append(image.model_dump()[\"url\"])\n",
    "    image_data_list.append(image.model_dump()[\"b64_json\"])\n",
    "image_objects = []\n",
    "\n",
    "# Check whether lists contain urls that must be downloaded or b64_json images\n",
    "if image_url_list and all(image_url_list):\n",
    "    # Download images from the urls\n",
    "    for i, url in enumerate(image_url_list):\n",
    "        while True:\n",
    "            try:\n",
    "                print(f\"getting URL: {url}\")\n",
    "                response = requests.get(url)\n",
    "                response.raise_for_status()  # Raises stored HTTPError, if one occurred.\n",
    "            except requests.HTTPError as e:\n",
    "                print(f\"Failed to download image from {url}. Error: {e.response.status_code}\")\n",
    "                retry = input(\"Retry? (y/n): \")  # ask script user if image url is bad\n",
    "                if retry.lower() in [\"n\", \"no\"]:  # could wait a bit if not ready\n",
    "                    raise\n",
    "                else:\n",
    "                    continue\n",
    "            break\n",
    "        image_objects.append(Image.open(BytesIO(response.content)))  # Append the Image object to the list\n",
    "        image_objects[i].save(f\"{img_filename}_{i}.png\")\n",
    "        print(f\"{img_filename}_{i}.png was saved\")\n",
    "elif image_data_list and all(image_data_list):  # if there is b64 data\n",
    "    # Convert \"b64_json\" data to png file\n",
    "    for i, data in enumerate(image_data_list):\n",
    "        image_objects.append(Image.open(BytesIO(base64.b64decode(data))))  # Append the Image object to the list\n",
    "        image_objects[i].save(f\"{img_filename}_{i}.png\")\n",
    "        print(f\"{img_filename}_{i}.png was saved\")\n",
    "else:\n",
    "    print(\"No image data was obtained. Maybe bad code?\")"
   ]
  },
  {
   "cell_type": "code",
   "execution_count": null,
   "metadata": {},
   "outputs": [],
   "source": []
  }
 ],
 "metadata": {
  "kernelspec": {
   "display_name": "Python 3",
   "language": "python",
   "name": "python3"
  },
  "language_info": {
   "codemirror_mode": {
    "name": "ipython",
    "version": 3
   },
   "file_extension": ".py",
   "mimetype": "text/x-python",
   "name": "python",
   "nbconvert_exporter": "python",
   "pygments_lexer": "ipython3",
   "version": "3.8.5"
  }
 },
 "nbformat": 4,
 "nbformat_minor": 4
}
