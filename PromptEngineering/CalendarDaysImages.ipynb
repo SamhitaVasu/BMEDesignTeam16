{
 "cells": [
  {
   "cell_type": "code",
   "execution_count": null,
   "metadata": {},
   "outputs": [],
   "source": [
    "from PIL import Image \n",
    "  \n",
    "# Change this to whatever filename you want\n",
    "img_filename = \"14Days\"\n",
    "    \n",
    "# Opening the primary image (used in background) (calendar image)\n",
    "img1 = Image.open(r\"DALLE-20240226_221846_0.png\") \n",
    "  \n",
    "# Opening the secondary image (overlay image) (number image)\n",
    "img2 = Image.open(r\"DALLE-20240226_225811_0.png\") \n",
    "\n",
    "#resize overlay image so it does not cover background\n",
    "img2 = img2.resize((int(img1.size[0]/2), int(img1.size[1]/2)))\n",
    "  \n",
    "# Pasting img2 image on top of img1  \n",
    "img1.paste(img2, (int(img1.size[0]/3),int(img1.size[1]/3))) \n",
    "\n",
    "#save image\n",
    "img1.save(f\"{img_filename}.png\")\n",
    "print(f\"{img_filename}.png was saved\")"
   ]
  },
  {
   "cell_type": "code",
   "execution_count": null,
   "metadata": {},
   "outputs": [],
   "source": []
  }
 ],
 "metadata": {
  "kernelspec": {
   "display_name": "Python 3",
   "language": "python",
   "name": "python3"
  },
  "language_info": {
   "codemirror_mode": {
    "name": "ipython",
    "version": 3
   },
   "file_extension": ".py",
   "mimetype": "text/x-python",
   "name": "python",
   "nbconvert_exporter": "python",
   "pygments_lexer": "ipython3",
   "version": "3.8.5"
  }
 },
 "nbformat": 4,
 "nbformat_minor": 4
}
