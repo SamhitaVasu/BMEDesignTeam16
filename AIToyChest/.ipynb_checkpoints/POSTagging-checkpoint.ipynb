{
 "cells": [
  {
   "cell_type": "code",
   "execution_count": 1,
   "metadata": {
    "scrolled": true
   },
   "outputs": [
    {
     "name": "stdout",
     "output_type": "stream",
     "text": [
      "[('This', 'DET'), ('is', 'VERB'), ('one', 'NUM'), ('simple', 'ADJ'), ('example', 'NOUN'), ('.', '.')]\n"
     ]
    }
   ],
   "source": [
    "# This is a method to tag parts of speech in sentences\n",
    "# Make sure all the required libraries are installed. \n",
    "# If you get an error, check to see if it mentions anything you need to install.\n",
    "# For the sentence \"This is one simple example.\", you should get the following output:\n",
    "# [('This', 'DET'), ('is', 'VERB'), ('one', 'NUM'), ('simple', 'ADJ'), ('example', 'NOUN'), ('.', '.')]\n",
    "\n",
    "import nltk\n",
    "from nltk import word_tokenize\n",
    "text = \"This is one simple example.\"\n",
    "tokens = word_tokenize(text)\n",
    "tags = nltk.pos_tag(tokens, tagset = \"universal\")\n",
    "print(tags)"
   ]
  },
  {
   "cell_type": "code",
   "execution_count": 2,
   "metadata": {
    "scrolled": true
   },
   "outputs": [
    {
     "name": "stdout",
     "output_type": "stream",
     "text": [
      "\n",
      "         TOKEN: This\n",
      "         ===== \n",
      "         TAG: DT         POS: PRON\n",
      "         EXPLANATION: determiner\n",
      "\n",
      "         TOKEN: is\n",
      "         ===== \n",
      "         TAG: VBZ        POS: AUX\n",
      "         EXPLANATION: verb, 3rd person singular present\n",
      "\n",
      "         TOKEN: one\n",
      "         ===== \n",
      "         TAG: CD         POS: NUM\n",
      "         EXPLANATION: cardinal number\n",
      "\n",
      "         TOKEN: simple\n",
      "         ===== \n",
      "         TAG: JJ         POS: ADJ\n",
      "         EXPLANATION: adjective (English), other noun-modifier (Chinese)\n",
      "\n",
      "         TOKEN: example\n",
      "         ===== \n",
      "         TAG: NN         POS: NOUN\n",
      "         EXPLANATION: noun, singular or mass\n",
      "\n",
      "         TOKEN: .\n",
      "         ===== \n",
      "         TAG: .          POS: PUNCT\n",
      "         EXPLANATION: punctuation mark, sentence closer\n"
     ]
    }
   ],
   "source": [
    "# This does the same thing as above, but provides explanations for the POS\n",
    "import spacy\n",
    "from spacy import displacy\n",
    "\n",
    "nlp = spacy.load(\"en_core_web_sm\")\n",
    "about_text = (\"This is one simple example.\")\n",
    "about_doc = nlp(about_text)\n",
    "for token in about_doc:\n",
    "    print(f\"\"\"\n",
    "         TOKEN: {str(token)}\n",
    "         ===== \n",
    "         TAG: {str(token.tag_):10} POS: {token.pos_}\n",
    "         EXPLANATION: {spacy.explain(token.tag_)}\"\"\")"
   ]
  },
  {
   "cell_type": "code",
   "execution_count": 3,
   "metadata": {
    "scrolled": true
   },
   "outputs": [
    {
     "name": "stdout",
     "output_type": "stream",
     "text": [
      "nouns: \n",
      "[example]\n",
      "adjectives: \n",
      "[simple]\n"
     ]
    }
   ],
   "source": [
    "# extracting different POS \n",
    "# For the sentence \"This is one simple example.\", you should get the following output:\n",
    "    # nouns: [example]; adjectives: [simple]\n",
    "\n",
    "nouns = []\n",
    "adjectives = []\n",
    "for token in about_doc:\n",
    "    if token.pos_ == \"NOUN\":\n",
    "        nouns.append(token)\n",
    "    if token.pos_ == \"ADJ\":\n",
    "        adjectives.append(token)\n",
    "print(\"nouns: \")\n",
    "print(nouns)\n",
    "print(\"adjectives: \")\n",
    "print(adjectives)"
   ]
  },
  {
   "cell_type": "code",
   "execution_count": 4,
   "metadata": {},
   "outputs": [
    {
     "data": {
      "text/html": [
       "<span class=\"tex2jax_ignore\"><svg xmlns=\"http://www.w3.org/2000/svg\" xmlns:xlink=\"http://www.w3.org/1999/xlink\" xml:lang=\"en\" id=\"b1234e0014474318ae0ccbdf03f9eae3-0\" class=\"displacy\" width=\"925\" height=\"399.5\" direction=\"ltr\" style=\"max-width: none; height: 399.5px; color: #000000; background: #ffffff; font-family: Arial; direction: ltr\">\n",
       "<text class=\"displacy-token\" fill=\"currentColor\" text-anchor=\"middle\" y=\"309.5\">\n",
       "    <tspan class=\"displacy-word\" fill=\"currentColor\" x=\"50\">This</tspan>\n",
       "    <tspan class=\"displacy-tag\" dy=\"2em\" fill=\"currentColor\" x=\"50\">PRON</tspan>\n",
       "</text>\n",
       "\n",
       "<text class=\"displacy-token\" fill=\"currentColor\" text-anchor=\"middle\" y=\"309.5\">\n",
       "    <tspan class=\"displacy-word\" fill=\"currentColor\" x=\"225\">is</tspan>\n",
       "    <tspan class=\"displacy-tag\" dy=\"2em\" fill=\"currentColor\" x=\"225\">AUX</tspan>\n",
       "</text>\n",
       "\n",
       "<text class=\"displacy-token\" fill=\"currentColor\" text-anchor=\"middle\" y=\"309.5\">\n",
       "    <tspan class=\"displacy-word\" fill=\"currentColor\" x=\"400\">one</tspan>\n",
       "    <tspan class=\"displacy-tag\" dy=\"2em\" fill=\"currentColor\" x=\"400\">NUM</tspan>\n",
       "</text>\n",
       "\n",
       "<text class=\"displacy-token\" fill=\"currentColor\" text-anchor=\"middle\" y=\"309.5\">\n",
       "    <tspan class=\"displacy-word\" fill=\"currentColor\" x=\"575\">simple</tspan>\n",
       "    <tspan class=\"displacy-tag\" dy=\"2em\" fill=\"currentColor\" x=\"575\">ADJ</tspan>\n",
       "</text>\n",
       "\n",
       "<text class=\"displacy-token\" fill=\"currentColor\" text-anchor=\"middle\" y=\"309.5\">\n",
       "    <tspan class=\"displacy-word\" fill=\"currentColor\" x=\"750\">example.</tspan>\n",
       "    <tspan class=\"displacy-tag\" dy=\"2em\" fill=\"currentColor\" x=\"750\">NOUN</tspan>\n",
       "</text>\n",
       "\n",
       "<g class=\"displacy-arrow\">\n",
       "    <path class=\"displacy-arc\" id=\"arrow-b1234e0014474318ae0ccbdf03f9eae3-0-0\" stroke-width=\"2px\" d=\"M70,264.5 C70,177.0 215.0,177.0 215.0,264.5\" fill=\"none\" stroke=\"currentColor\"/>\n",
       "    <text dy=\"1.25em\" style=\"font-size: 0.8em; letter-spacing: 1px\">\n",
       "        <textPath xlink:href=\"#arrow-b1234e0014474318ae0ccbdf03f9eae3-0-0\" class=\"displacy-label\" startOffset=\"50%\" side=\"left\" fill=\"currentColor\" text-anchor=\"middle\">nsubj</textPath>\n",
       "    </text>\n",
       "    <path class=\"displacy-arrowhead\" d=\"M70,266.5 L62,254.5 78,254.5\" fill=\"currentColor\"/>\n",
       "</g>\n",
       "\n",
       "<g class=\"displacy-arrow\">\n",
       "    <path class=\"displacy-arc\" id=\"arrow-b1234e0014474318ae0ccbdf03f9eae3-0-1\" stroke-width=\"2px\" d=\"M420,264.5 C420,89.5 745.0,89.5 745.0,264.5\" fill=\"none\" stroke=\"currentColor\"/>\n",
       "    <text dy=\"1.25em\" style=\"font-size: 0.8em; letter-spacing: 1px\">\n",
       "        <textPath xlink:href=\"#arrow-b1234e0014474318ae0ccbdf03f9eae3-0-1\" class=\"displacy-label\" startOffset=\"50%\" side=\"left\" fill=\"currentColor\" text-anchor=\"middle\">nummod</textPath>\n",
       "    </text>\n",
       "    <path class=\"displacy-arrowhead\" d=\"M420,266.5 L412,254.5 428,254.5\" fill=\"currentColor\"/>\n",
       "</g>\n",
       "\n",
       "<g class=\"displacy-arrow\">\n",
       "    <path class=\"displacy-arc\" id=\"arrow-b1234e0014474318ae0ccbdf03f9eae3-0-2\" stroke-width=\"2px\" d=\"M595,264.5 C595,177.0 740.0,177.0 740.0,264.5\" fill=\"none\" stroke=\"currentColor\"/>\n",
       "    <text dy=\"1.25em\" style=\"font-size: 0.8em; letter-spacing: 1px\">\n",
       "        <textPath xlink:href=\"#arrow-b1234e0014474318ae0ccbdf03f9eae3-0-2\" class=\"displacy-label\" startOffset=\"50%\" side=\"left\" fill=\"currentColor\" text-anchor=\"middle\">amod</textPath>\n",
       "    </text>\n",
       "    <path class=\"displacy-arrowhead\" d=\"M595,266.5 L587,254.5 603,254.5\" fill=\"currentColor\"/>\n",
       "</g>\n",
       "\n",
       "<g class=\"displacy-arrow\">\n",
       "    <path class=\"displacy-arc\" id=\"arrow-b1234e0014474318ae0ccbdf03f9eae3-0-3\" stroke-width=\"2px\" d=\"M245,264.5 C245,2.0 750.0,2.0 750.0,264.5\" fill=\"none\" stroke=\"currentColor\"/>\n",
       "    <text dy=\"1.25em\" style=\"font-size: 0.8em; letter-spacing: 1px\">\n",
       "        <textPath xlink:href=\"#arrow-b1234e0014474318ae0ccbdf03f9eae3-0-3\" class=\"displacy-label\" startOffset=\"50%\" side=\"left\" fill=\"currentColor\" text-anchor=\"middle\">attr</textPath>\n",
       "    </text>\n",
       "    <path class=\"displacy-arrowhead\" d=\"M750.0,266.5 L758.0,254.5 742.0,254.5\" fill=\"currentColor\"/>\n",
       "</g>\n",
       "</svg></span>"
      ],
      "text/plain": [
       "<IPython.core.display.HTML object>"
      ]
     },
     "metadata": {},
     "output_type": "display_data"
    }
   ],
   "source": [
    "# Find dependencies between parts of a sentence\n",
    "# If you get the error:\n",
    "    # \"Can't find model 'en_core_web_sm'. It doesn't seem to be a Python package or a valid path to a data directory.\"\n",
    "    # Then run \"python -m spacy download en\" in your command prompt/terminal\n",
    "# You should get a diagram showing the dependencies of different components of the sentence\n",
    "displacy.render(about_doc, style = \"dep\", jupyter=True)"
   ]
  },
  {
   "cell_type": "code",
   "execution_count": 6,
   "metadata": {},
   "outputs": [
    {
     "name": "stdout",
     "output_type": "stream",
     "text": [
      "['nsubj', 'ROOT', 'nummod', 'amod', 'attr', 'punct']\n"
     ]
    }
   ],
   "source": [
    "# print out dependencies\n",
    "print([token.dep_ for token in about_doc])"
   ]
  },
  {
   "cell_type": "code",
   "execution_count": 7,
   "metadata": {},
   "outputs": [
    {
     "name": "stdout",
     "output_type": "stream",
     "text": [
      "\n",
      "        TOKEN: This\n",
      "        =====\n",
      "        token.tag_ = 'DT'\n",
      "        token.head.text = 'is'\n",
      "        token.dep_ = 'nsubj'\n",
      "        EXPLANATION: nominal subject\n",
      "\n",
      "        TOKEN: is\n",
      "        =====\n",
      "        token.tag_ = 'VBZ'\n",
      "        token.head.text = 'is'\n",
      "        token.dep_ = 'ROOT'\n",
      "        EXPLANATION: root\n",
      "\n",
      "        TOKEN: one\n",
      "        =====\n",
      "        token.tag_ = 'CD'\n",
      "        token.head.text = 'example'\n",
      "        token.dep_ = 'nummod'\n",
      "        EXPLANATION: numeric modifier\n",
      "\n",
      "        TOKEN: simple\n",
      "        =====\n",
      "        token.tag_ = 'JJ'\n",
      "        token.head.text = 'example'\n",
      "        token.dep_ = 'amod'\n",
      "        EXPLANATION: adjectival modifier\n",
      "\n",
      "        TOKEN: example\n",
      "        =====\n",
      "        token.tag_ = 'NN'\n",
      "        token.head.text = 'is'\n",
      "        token.dep_ = 'attr'\n",
      "        EXPLANATION: attribute\n",
      "\n",
      "        TOKEN: .\n",
      "        =====\n",
      "        token.tag_ = '.'\n",
      "        token.head.text = 'is'\n",
      "        token.dep_ = 'punct'\n",
      "        EXPLANATION: punctuation\n"
     ]
    }
   ],
   "source": [
    "# print out dependencies with explanations\n",
    "for token in about_doc:\n",
    "    print(f\"\"\"\n",
    "        TOKEN: {token.text}\n",
    "        =====\n",
    "        {token.tag_ = }\n",
    "        {token.head.text = }\n",
    "        {token.dep_ = }\n",
    "        EXPLANATION: {spacy.explain(token.dep_)}\"\"\")"
   ]
  },
  {
   "cell_type": "code",
   "execution_count": null,
   "metadata": {},
   "outputs": [],
   "source": []
  }
 ],
 "metadata": {
  "kernelspec": {
   "display_name": "Python 3",
   "language": "python",
   "name": "python3"
  },
  "language_info": {
   "codemirror_mode": {
    "name": "ipython",
    "version": 3
   },
   "file_extension": ".py",
   "mimetype": "text/x-python",
   "name": "python",
   "nbconvert_exporter": "python",
   "pygments_lexer": "ipython3",
   "version": "3.8.5"
  }
 },
 "nbformat": 4,
 "nbformat_minor": 4
}
